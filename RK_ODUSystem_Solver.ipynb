{
 "cells": [
  {
   "cell_type": "markdown",
   "metadata": {},
   "source": [
    "<div style=\"text-align: right\"><i>Подготовил <a href=\"https://github.com/V1ad0S\">Илларионов Владислав</a>"
   ]
  },
  {
   "cell_type": "markdown",
   "metadata": {},
   "source": [
    "## Численное интегрирование систем ОДУ первого порядка методом Рунге-Кутты"
   ]
  },
  {
   "cell_type": "markdown",
   "metadata": {},
   "source": [
    "Необходимо найти решение\n",
    "$$ \\frac{d\\vec{x}}{dt} = \\vec{f}(t, \\vec{x}), \\hspace{1cm} \\vec{x} \\in \\mathbb{R}^n $$\n",
    "\n",
    "удовлетворяющее начальному условию\n",
    "$$ \\vec{x}(t_0) = \\vec{x}_0 $$\n"
   ]
  },
  {
   "cell_type": "markdown",
   "metadata": {},
   "source": [
    "На примере одношагового *метода Рунге-Кутты* порядка $s$ с параметрами: $a_{ij}, b_i, c_i$, рассмотрим его распространение на системы при численном решении полученной выше задачи Коши.\n",
    "$$ x_{m+1}^i = x^i(t_m + h) \\approx x^i(t_m) + h \\sum_{i=1}^s b_i k_{ij}(m) \\hspace{1cm} i = \\overline{1, n} $$\n",
    "\n",
    "Здесь функции $k_{ij}(m)$ вычисляются по правилу:\n",
    "$$ k_{i1}(m) = f_i(t_m, x^1, \\ldots, x^n) $$\n",
    "\n",
    "для $j = 2, \\ldots, s$:\n",
    "$$\n",
    "k_{ij}(m) = f_i \\left(t_m + c_j h, x^1 + \\sum_{l=1}^{j-1}a_{jl}k_{1l}(m),\\ldots, x^n + \\sum_{l=1}^{j-1}a_{jl}k_{nl}(m)\\right)\n",
    "$$"
   ]
  },
  {
   "cell_type": "markdown",
   "metadata": {},
   "source": [
    "Чтобы записать это решение в векторном виде, предварительно представим параметры метода в векторно-матричной форме:\n",
    "\n",
    "$A$ -- матрица ($s \\times s$) с элементами $a_{ij}$, $\\vec{b}$ и $\\vec{c}$ -- вектора из $\\mathbb{R}^s$ с элементами $b_i$ и $c_i$ соответственно.\n",
    "\n",
    "Тогда:\n",
    "$$ \\vec{x}_{m+1} = \\vec{x}(t_m + h) \\approx \\vec{x}(t_m) + h \\left(K(m) \\cdot \\vec{b} \\right)$$\n",
    "\n",
    "$K(m)$ -- матрица ($n \\times s$) с элементами $k_{ij}(m)$.\n",
    "Столбцы этой матрицы вектора $\\left\\{ \\vec{k}_j \\right\\}_{j=1}^s$:\n",
    "$$ \\vec{k}_j = \\vec{f}(t_m + c_j h, \\vec{x}_n + \\vec{p}(j, m))$$\n",
    "\n",
    "Здесь вектор $\\vec{p}$ отвечает за смещение аргумента функции $\\vec{f}$:\n",
    "$$ \\vec{p}(j, m) = \\left(\\sum_{l=1}^{j-1}a_{jl}k_{1l}(m),\\ldots, \\sum_{l=1}^{j-1}a_{jl}k_{nl}(m) \\right)^T $$"
   ]
  },
  {
   "cell_type": "markdown",
   "metadata": {},
   "source": [
    "Методическая погрешность $\\vec\\sigma (h)$ -- вектор функция. Каждая ее компонента определяется равенством:\n",
    "$$ \\sigma^i (h) = \\frac{\\max\\limits_{i \\in [1, n]}|x_i^{(h)} - x_i^{(h/2)}|}{2^s - 1} $$\n",
    "\n",
    "Чтобы найти решение системы с заданной точностью $\\varepsilon$ необходимо добиться выполнения неравенства:\n",
    "$$ \\sigma^i < \\varepsilon \\hspace{1cm} \\forall i \\in [1, n] $$"
   ]
  },
  {
   "cell_type": "markdown",
   "metadata": {},
   "source": [
    "Реализация представлена ниже"
   ]
  },
  {
   "cell_type": "code",
   "execution_count": 1,
   "metadata": {},
   "outputs": [],
   "source": [
    "import numpy as np\n",
    "import matplotlib.pyplot as plt\n",
    "import pandas as pd"
   ]
  },
  {
   "cell_type": "code",
   "execution_count": 2,
   "metadata": {},
   "outputs": [],
   "source": [
    "def solve_odesystem(ode_system: 'cuple of functions-list and 1Darray initial conditions',\n",
    "               RK_method: 'cuple of params-list like [A, b, c] and accuracy order',\n",
    "               integration_segment: '[t_0, t_N]', N0, epsilon: 'accuracy' = 0):\n",
    "    \"\"\"Решает систему ОДУ с заданной точностью\"\"\"\n",
    "\n",
    "    def runge_kutta_odesystem(ode_sys, rk_method, integration_seg, n):\n",
    "        \"\"\"Решает систему ОДУ методом Рунге-Кутты\"\"\"\n",
    "        f, r0 = ode_sys\n",
    "        (A, b, c), accuracy_order = rk_method\n",
    "        sys_order = r0.size\n",
    "        r = [r0]\n",
    "        t_grid, h = np.linspace(*integration_seg, n, retstep=True)\n",
    "        for n, tn in enumerate(t_grid[:-1]):\n",
    "            K = np.array([[f[i](t=tn, r=r[n])] for i in range(sys_order)])\n",
    "            for j in range(1, accuracy_order):\n",
    "                p = np.array([A[j][:j] @ K[i] for i in range(sys_order)])\n",
    "                Kj = np.array([f[i](t=(tn + c[j]*h), r=(r[n] + h*p)) for i in range(sys_order)])\n",
    "                K = np.hstack([K, np.transpose([Kj])])\n",
    "            r.append(r[n] + h*(K @ b))\n",
    "        return t_grid, np.array(r)\n",
    "    \n",
    "    t_grid, r = runge_kutta_odesystem(ode_system, RK_method, integration_segment, N0)\n",
    "    if epsilon:\n",
    "        sigma = 2 * epsilon\n",
    "        k = 1\n",
    "        R = [r]\n",
    "        while np.all(sigma > epsilon):\n",
    "            k *= 2\n",
    "            R.append(runge_kutta_odesystem(ode_system, RK_method, integration_segment, N*k - 1)[1][::k])\n",
    "            diff = np.absolute(R[-2] - R[-1])\n",
    "            sigma = diff.max(axis=0)/(2**rk_method[1] - 1)\n",
    "        return t_grid, np.array(r), sigma\n",
    "    return t_grid, np.array(r)"
   ]
  },
  {
   "cell_type": "markdown",
   "metadata": {},
   "source": [
    "### Классический 4-стадийный метод РК 4-го порядка"
   ]
  },
  {
   "cell_type": "code",
   "execution_count": 3,
   "metadata": {},
   "outputs": [],
   "source": [
    "c = np.array([0, 0.5, 0.5, 1])\n",
    "b = np.array([1/6, 2/6, 2/6, 1/6])\n",
    "A = np.array([[0  , 0  , 0, 0],\n",
    "              [0.5, 0  , 0, 0],\n",
    "              [0  , 0.5, 0, 0],\n",
    "              [0  , 0  , 1, 0]])\n",
    "accuracy_order = 4\n",
    "rk_method = ([A, b, c], accuracy_order)"
   ]
  },
  {
   "cell_type": "markdown",
   "metadata": {},
   "source": [
    "### Пример:"
   ]
  },
  {
   "cell_type": "markdown",
   "metadata": {},
   "source": [
    "\\begin{cases}\n",
    "    \\dot{x} = -y  \\hspace{1cm} &x_0 = 1\\\\\n",
    "    \\dot{y} = x  &y_0 = 0\\\\\n",
    "\\end{cases}\n",
    "\n",
    "Решением этой системы является:\n",
    "\\begin{cases}\n",
    "    x = \\cos t \\\\\n",
    "    y = \\sin t \\\\\n",
    "\\end{cases}\n",
    "\n",
    "То есть, если построить график y(x), мы должны увидеть окружность"
   ]
  },
  {
   "cell_type": "code",
   "execution_count": 4,
   "metadata": {},
   "outputs": [],
   "source": [
    "# r = [x, y]\n",
    "# dx/dt = -y\n",
    "def fx(*, t=0, r=[0, 0, 0]):\n",
    "    r = np.array(r)\n",
    "    return -r[1]\n",
    "# dy/dt = x\n",
    "def fy(*, t=0, r=[0, 0, 0]):\n",
    "    r = np.array(r)\n",
    "    return r[0]\n",
    "\n",
    "# x(0) = 1, y(0) = 0\n",
    "r0 = np.array([1, 0])\n",
    "ode_system = ([fx, fy], r0)\n",
    "\n",
    "# Интегрируем по всей окружности [0, 2pi]\n",
    "integration_segment = [0, np.pi*2]\n",
    "N = 100     # кол-во точек в сетке\n",
    "epsilon = 1e-3 # точность\n",
    "t, r, sigma = solve_odesystem(ode_system, rk_method, integration_segment, N, epsilon)\n",
    "x, y = r.T"
   ]
  },
  {
   "cell_type": "code",
   "execution_count": 5,
   "metadata": {
    "scrolled": false
   },
   "outputs": [
    {
     "name": "stdout",
     "output_type": "stream",
     "text": [
      "accuracy x(t): 4.113091413386153e-08\n",
      "accuracy y(t): 5.301527154777386e-08\n"
     ]
    },
    {
     "data": {
      "image/png": "[encoded data removed]",
      "text/plain": [
       "<Figure size 720x720 with 1 Axes>"
      ]
     },
     "metadata": {
      "needs_background": "light"
     },
     "output_type": "display_data"
    }
   ],
   "source": [
    "plt.figure(figsize=(10, 10))\n",
    "plt.plot(x, y, 'o-r', markersize=4)\n",
    "plt.xlabel('x', fontsize=14)\n",
    "plt.ylabel('y', fontsize=14)\n",
    "plt.grid()\n",
    "\n",
    "print(f'accuracy x(t): {sigma[0]}')\n",
    "print(f'accuracy y(t): {sigma[1]}')"
   ]
  }
 ],
 "metadata": {
  "kernelspec": {
   "display_name": "Python 3",
   "language": "python",
   "name": "python3"
  },
  "language_info": {
   "codemirror_mode": {
    "name": "ipython",
    "version": 3
   },
   "file_extension": ".py",
   "mimetype": "text/x-python",
   "name": "python",
   "nbconvert_exporter": "python",
   "pygments_lexer": "ipython3",
   "version": "3.9.1"
  }
 },
 "nbformat": 4,
 "nbformat_minor": 4
}
