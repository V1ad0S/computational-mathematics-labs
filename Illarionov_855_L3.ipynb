{
 "cells": [
  {
   "cell_type": "code",
   "execution_count": 1,
   "metadata": {},
   "outputs": [],
   "source": [
    "import numpy as np\n",
    "import matplotlib.pyplot as plt"
   ]
  },
  {
   "cell_type": "markdown",
   "metadata": {},
   "source": [
    "# Лабораторная работа №3. Вариант №1."
   ]
  },
  {
   "cell_type": "markdown",
   "metadata": {},
   "source": [
    "## Цель\n",
    "\n",
    "Методом Рунге-Кутты 4 порядка точности решить задачу Коши на интервале $x \\in (1, 2)$ с точностью $\\varepsilon = 10^{-4}$\n",
    "$$ 2x^2 y y_x' + y^2 = 2x^3 + x^2 \\hspace{1cm} y(1) = 1 $$\n",
    "\n",
    "Или\n",
    "$$ y_x' = \\frac{2x^3 + x^2 - y^2}{2x^2y} $$"
   ]
  },
  {
   "cell_type": "markdown",
   "metadata": {},
   "source": [
    "При решении я буду пользоваться заранее подготовленной реализацией функции решающей **систему** ОДУ с заданной точностью"
   ]
  },
  {
   "cell_type": "code",
   "execution_count": 2,
   "metadata": {},
   "outputs": [],
   "source": [
    "def solve_odesystem(ode_system: 'cuple of functions-list and 1Darray initial conditions',\n",
    "               RK_method: 'cuple of params-list like [A, b, c] and accuracy order',\n",
    "               integration_segment: '[t_0, t_N]', N0, epsilon: 'accuracy' = 0):\n",
    "    \"\"\"Решает систему ОДУ с заданной точностью\"\"\"\n",
    "\n",
    "    def runge_kutta_odesystem(ode_sys, rk_method, integration_seg, n):\n",
    "        \"\"\"Решает систему ОДУ методом Рунге-Кутты\"\"\"\n",
    "        f, r0 = ode_sys\n",
    "        (A, b, c), accuracy_order = rk_method\n",
    "        sys_order = r0.size\n",
    "        r = [r0]\n",
    "        t_grid, h = np.linspace(*integration_seg, n, retstep=True)\n",
    "        for n, tn in enumerate(t_grid[:-1]):\n",
    "            K = np.array([[f[i](t=tn, r=r[n])] for i in range(sys_order)])\n",
    "            for j in range(1, accuracy_order):\n",
    "                p = np.array([A[j][:j] @ K[i] for i in range(sys_order)])\n",
    "                Kj = np.array([f[i](t=(tn + c[j]*h), r=(r[n] + h*p)) for i in range(sys_order)])\n",
    "                K = np.hstack([K, np.transpose([Kj])])\n",
    "            r.append(r[n] + h*(K @ b))\n",
    "        return t_grid, np.array(r)\n",
    "    \n",
    "    t_grid, r = runge_kutta_odesystem(ode_system, RK_method, integration_segment, N0)\n",
    "    if epsilon:\n",
    "        sigma = 2 * epsilon\n",
    "        k = 1\n",
    "        R = [r]\n",
    "        while np.all(sigma > epsilon):\n",
    "            k *= 2\n",
    "            R.append(runge_kutta_odesystem(ode_system, RK_method, integration_segment, N*k - 1)[1][::k])\n",
    "            diff = np.absolute(R[-2] - R[-1])\n",
    "            sigma = diff.max(axis=0)/(2**rk_method[1] - 1)\n",
    "        return t_grid, np.array(r), sigma\n",
    "    return t_grid, np.array(r)"
   ]
  },
  {
   "cell_type": "markdown",
   "metadata": {},
   "source": [
    "## Задаем функцию определяющую $y_x'$\n",
    "\n",
    "Поскольку функция написана, чтобы решать системы ОДУ, необходимо представить нашу задачу Коши, как систему из одного уравнения.\n",
    "\n",
    "Поэтому всюду далее введены особые обозначения: $\\vec{r} \\equiv (y)^T$, $\\vec{r}_0 \\equiv (y_0)^T$, $t \\equiv x$"
   ]
  },
  {
   "cell_type": "code",
   "execution_count": 3,
   "metadata": {},
   "outputs": [],
   "source": [
    "def f(*, t=0, r=[0, 0, 0]):\n",
    "    r = np.array(r)\n",
    "    return (2*t**3 + t**2 - r[0]**2)/(2*t**2 * r[0])\n",
    "\n",
    "r0 = np.array([1])\n",
    "ode_system = ([f], r0)\n",
    "integration_segment = [1, 2]\n",
    "N = 11"
   ]
  },
  {
   "cell_type": "markdown",
   "metadata": {},
   "source": [
    "## Классический 4-стадийный метод РК 4-го порядка"
   ]
  },
  {
   "cell_type": "code",
   "execution_count": 4,
   "metadata": {},
   "outputs": [],
   "source": [
    "c = np.array([0, 0.5, 0.5, 1])\n",
    "b = np.array([1/6, 2/6, 2/6, 1/6])\n",
    "A = np.array([[0  , 0  , 0, 0],\n",
    "              [0.5, 0  , 0, 0],\n",
    "              [0  , 0.5, 0, 0],\n",
    "              [0  , 0  , 1, 0]])\n",
    "accuracy_order = 4\n",
    "rk_method = ([A, b, c], accuracy_order)"
   ]
  },
  {
   "cell_type": "code",
   "execution_count": 5,
   "metadata": {},
   "outputs": [],
   "source": [
    "epsilon = 1e-4 # точность\n",
    "x, r, sigma = solve_odesystem(ode_system, rk_method, integration_segment, N, epsilon)\n",
    "y, = r.T"
   ]
  },
  {
   "cell_type": "code",
   "execution_count": 6,
   "metadata": {},
   "outputs": [
    {
     "name": "stdout",
     "output_type": "stream",
     "text": [
      "x: [1.  1.1 1.2 1.3 1.4 1.5 1.6 1.7 1.8 1.9 2. ]\n",
      "y: [1.  1.1 1.2 1.3 1.4 1.5 1.6 1.7 1.8 1.9 2. ]\n",
      "accuracy: [2.96059473e-17]\n"
     ]
    },
    {
     "data": {
      "image/png": "[encoded data removed]",
      "text/plain": [
       "<Figure size 576x576 with 1 Axes>"
      ]
     },
     "metadata": {
      "needs_background": "light"
     },
     "output_type": "display_data"
    }
   ],
   "source": [
    "plt.figure(figsize=(8, 8))\n",
    "plt.plot(x, y, 'o-')\n",
    "plt.xlabel('x', fontsize=14)\n",
    "plt.ylabel('y', fontsize=14)\n",
    "plt.grid()\n",
    "print(f'x: {x}')\n",
    "print(f'y: {y}')\n",
    "print(f'accuracy: {sigma}')"
   ]
  }
 ],
 "metadata": {
  "kernelspec": {
   "display_name": "Python 3",
   "language": "python",
   "name": "python3"
  },
  "language_info": {
   "codemirror_mode": {
    "name": "ipython",
    "version": 3
   },
   "file_extension": ".py",
   "mimetype": "text/x-python",
   "name": "python",
   "nbconvert_exporter": "python",
   "pygments_lexer": "ipython3",
   "version": "3.9.1"
  }
 },
 "nbformat": 4,
 "nbformat_minor": 4
}
