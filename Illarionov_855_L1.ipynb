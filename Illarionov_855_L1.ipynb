{
 "cells": [
  {
   "cell_type": "code",
   "execution_count": 1,
   "metadata": {},
   "outputs": [],
   "source": [
    "import numpy as np"
   ]
  },
  {
   "cell_type": "markdown",
   "metadata": {},
   "source": [
    "# Вариант 1. Задание №1.\n",
    "## Илларионов Владислав 855"
   ]
  },
  {
   "cell_type": "markdown",
   "metadata": {},
   "source": [
    "## Начальные значения"
   ]
  },
  {
   "cell_type": "code",
   "execution_count": 2,
   "metadata": {},
   "outputs": [],
   "source": [
    "gamma_0 = 5/3\n",
    "rho_0 = 2.219e-4\n",
    "U_0 = -1.587e5\n",
    "P_0 = 3.7812e6\n",
    "\n",
    "gamma_3 = 5/3\n",
    "rho_3 = 2.71e-3\n",
    "U_3 = 10\n",
    "P_3 = 5e5"
   ]
  },
  {
   "cell_type": "markdown",
   "metadata": {},
   "source": [
    "## Обозначения"
   ]
  },
  {
   "cell_type": "code",
   "execution_count": 3,
   "metadata": {},
   "outputs": [],
   "source": [
    "C_0 = (gamma_0 * P_0 / rho_0) ** 0.5\n",
    "C_3 = (gamma_3 * P_3 / rho_3) ** 0.5\n",
    "\n",
    "alpha_0 = (gamma_0 + 1) / (gamma_0 - 1)\n",
    "alpha_3 = (gamma_3 + 1) / (gamma_3 - 1)\n",
    "\n",
    "X = P_3 / P_0\n",
    "\n",
    "e_0 = 2 * C_0**2 / (gamma_0 * (gamma_0 - 1) * (U_3 - U_0)**2)\n",
    "e_3 = 2 * C_3**2 / (gamma_3 * (gamma_3 - 1) * (U_3 - U_0)**2)"
   ]
  },
  {
   "cell_type": "markdown",
   "metadata": {},
   "source": [
    "## Коэффициенты полинома"
   ]
  },
  {
   "cell_type": "markdown",
   "metadata": {},
   "source": [
    "$$ f(Y) = a_0 Y^6 + a_1 Y^5 + a_2 Y^4 + a_3 Y^3 + a_4 Y^2 + a^5 Y + a_6, \\hspace{1cm} Y = \\frac{P_1}{P_0} $$"
   ]
  },
  {
   "cell_type": "code",
   "execution_count": 4,
   "metadata": {},
   "outputs": [],
   "source": [
    "a_0 = (alpha_0 * e_3 - alpha_3 * X * e_0) ** 2"
   ]
  },
  {
   "cell_type": "code",
   "execution_count": 5,
   "metadata": {},
   "outputs": [],
   "source": [
    "a_1 = 2 * (\n",
    "    (alpha_0 * e_3 - alpha_3 * X * e_0)\n",
    "    * (e_3 * (1 - 2 * alpha_0 * X) - e_0 * X * (X - 2 * alpha_3))\n",
    "    - (alpha_0 * alpha_3 * X * (alpha_0 * e_3 + alpha_3 * X * e_0))\n",
    ")"
   ]
  },
  {
   "cell_type": "code",
   "execution_count": 6,
   "metadata": {},
   "outputs": [],
   "source": [
    "a_2 = (\n",
    "    e_3**2 * (6 * alpha_0**2 * X**2 - 8 * alpha_0 * X + 1)\n",
    "    - 2*e_0*e_3*X*(alpha_0*alpha_3*(X**2 + 4*X + 1) - 2*(X + 1)*(alpha_3 + alpha_0*X) + X)\n",
    "    + e_0**2 * X**2 * (6 * alpha_3**2 - 8 * alpha_3 * X + X**2) + alpha_0**2 * alpha_3**2 * X**2\n",
    "    - 2 * alpha_0 * X * e_3 * (alpha_0 * X - 2 * alpha_0 * alpha_3 * X + 2 * alpha_3)\n",
    "    - 2 * alpha_3 * X**2 * e_0 * (alpha_3 + 2 * alpha_0 * X - 2 * alpha_0 * alpha_3)\n",
    ")"
   ]
  },
  {
   "cell_type": "code",
   "execution_count": 7,
   "metadata": {},
   "outputs": [],
   "source": [
    "a_3 = -2 * X * (\n",
    "    2 * e_3**2 * (alpha_0**2 * X**2 - 3 * alpha_0 * X + 1)\n",
    "    + e_0 * e_3 * ((alpha_3 + alpha_0 * X) * (X**2 + 4*X + 1) - 2*alpha_0*alpha_3*X*(X + 1) - 2*X*(X + 1))\n",
    "    + 2 * e_0**2 * X * (X**2 - 3 * alpha_3 * X + alpha_3**2) - alpha_0 * alpha_3 * X * (alpha_0 * X + alpha_3)\n",
    "    + e_3 * (alpha_0**2 * alpha_3 * X**2 - 2*X*(2 * alpha_0 * alpha_3 + alpha_0**2 * X) + 2*alpha_0*X + alpha_3)\n",
    "    + e_0 * X * (alpha_0 * alpha_3**2 - 2 * alpha_3 * (alpha_3 + 2 * alpha_0 * X) + 2 * alpha_3 * X + alpha_0 * X**2)\n",
    ")"
   ]
  },
  {
   "cell_type": "code",
   "execution_count": 8,
   "metadata": {},
   "outputs": [],
   "source": [
    "a_4 = X**2 * (\n",
    "    e_3**2 * (alpha_0**2 * X**2 - 8 * alpha_0 * X + 6)\n",
    "    - 2 * e_0 * e_3 * (alpha_0 * alpha_3 * X - 2*(X + 1)*(alpha_3 + alpha_0 * X) + X**2 + 4*X + 1)\n",
    "    + e_0**2 * (alpha_3**2 - 8 * alpha_3 * X + 6 * X**2) + (alpha_3**2 + 4*alpha_0*alpha_3*X + alpha_0**2 * X**2)\n",
    "    - 2 * e_3 * (X*(alpha_0**2 * X + 2 * alpha_0 * alpha_3) - 2*(2*alpha_0*X + alpha_3) + 1)\n",
    "    - 2 * e_0 * (alpha_3*(2*alpha_0*X + alpha_3) - 2*X*(2*alpha_3 + alpha_0*X) + X**2)\n",
    ")"
   ]
  },
  {
   "cell_type": "code",
   "execution_count": 9,
   "metadata": {},
   "outputs": [],
   "source": [
    "a_5 = 2 * X**3 * (\n",
    "    e_3**2 * (alpha_0*X - 2) - e_0*e_3*(alpha_0*X - 2 + alpha_3 - 2*X)\n",
    "    + e_0**2 * (alpha_3 - 2*X) + alpha_3 + alpha_0*X\n",
    "    - e_3 * (2*alpha_0*X + alpha_3 - 2) - e_0 * (2*alpha_3 + alpha_0*X - 2*X)\n",
    ")"
   ]
  },
  {
   "cell_type": "code",
   "execution_count": 10,
   "metadata": {},
   "outputs": [],
   "source": [
    "a_6 = X**4 * ((e_3 - e_0)**2 + 1 - 2*(e_3 + e_0))"
   ]
  },
  {
   "cell_type": "code",
   "execution_count": 11,
   "metadata": {},
   "outputs": [],
   "source": [
    "a = np.array([a_0, a_1, a_2, a_3, a_4, a_5, a_6])"
   ]
  },
  {
   "cell_type": "markdown",
   "metadata": {},
   "source": [
    "## Определим область нахождения корней"
   ]
  },
  {
   "cell_type": "markdown",
   "metadata": {},
   "source": [
    "Из следствия основной теоремы алгебры все корни расположены на комплексной плоскости в кольце:\n",
    "\n",
    "$$ \\dfrac{|a_6|}{|a_6| + B} \\le |Y| \\le 1 + \\dfrac{A}{|a_0|} $$"
   ]
  },
  {
   "cell_type": "code",
   "execution_count": 12,
   "metadata": {},
   "outputs": [],
   "source": [
    "A = np.absolute(a[1:]).max()\n",
    "B = np.absolute(a[:-1]).max()\n",
    "\n",
    "left = abs(a[-1]) / (abs(a[-1] + B))\n",
    "right = 1 + A / a[0]"
   ]
  },
  {
   "cell_type": "markdown",
   "metadata": {},
   "source": [
    "## Построим ряд Штурма"
   ]
  },
  {
   "cell_type": "markdown",
   "metadata": {},
   "source": [
    "$$ f_0 = f $$\n",
    "\n",
    "$$ f_1 = f_0' $$\n",
    "\n",
    "$$ f_i = - Res(f_{i-2}, f_{i-1}), \\hspace{1cm} i \\in [2, 6] $$"
   ]
  },
  {
   "cell_type": "code",
   "execution_count": 13,
   "metadata": {},
   "outputs": [],
   "source": [
    "f = [a]\n",
    "f.append(np.polyder(a))\n",
    "for i in range(2, a.size):\n",
    "    f.append(-np.polydiv(f[i-2], f[i-1])[1])"
   ]
  },
  {
   "cell_type": "code",
   "execution_count": 14,
   "metadata": {},
   "outputs": [],
   "source": [
    "left_row_t = []\n",
    "right_row_t = []\n",
    "for f_i in f:\n",
    "    left_row_t.append(np.polyval(f_i, left))\n",
    "    right_row_t.append(np.polyval(f_i, right))\n",
    "left_row = np.array(left_row_t)\n",
    "right_row = np.array(right_row_t)"
   ]
  },
  {
   "cell_type": "markdown",
   "metadata": {},
   "source": [
    "### Считаем количества перемен знаков в рядах и находим количество корней"
   ]
  },
  {
   "cell_type": "code",
   "execution_count": 15,
   "metadata": {},
   "outputs": [],
   "source": [
    "k_left = ((left_row[1:] * left_row[:-1]) < 0).sum()\n",
    "k_right = ((right_row[1:] * right_row[:-1]) < 0).sum()\n",
    "\n",
    "k = abs(k_left - k_right)"
   ]
  },
  {
   "cell_type": "markdown",
   "metadata": {},
   "source": [
    "## Локализуем положительные действительные корни"
   ]
  },
  {
   "cell_type": "markdown",
   "metadata": {},
   "source": [
    "Разбиваем отрезок пока не найдется k отрезков (k - количество корней из метода Штурма), на которых функция\n",
    "обнуляется (меняет знак на концах)"
   ]
  },
  {
   "cell_type": "code",
   "execution_count": 16,
   "metadata": {},
   "outputs": [],
   "source": [
    "N = 1000\n",
    "count = 0\n",
    "while count != k:\n",
    "    x = np.linspace(left, right, N)\n",
    "    y = np.polyval(a, x)\n",
    "    indexes = ((y[1:] * y[:-1]) < 0)\n",
    "    count = indexes.sum()\n",
    "    N *= 10"
   ]
  },
  {
   "cell_type": "code",
   "execution_count": 17,
   "metadata": {},
   "outputs": [],
   "source": [
    "loc_segments = np.vstack([x[:-1][indexes], x[1:][indexes]]).T"
   ]
  },
  {
   "cell_type": "markdown",
   "metadata": {},
   "source": [
    "## Найдем корни методом дихотомии"
   ]
  },
  {
   "cell_type": "code",
   "execution_count": 18,
   "metadata": {},
   "outputs": [],
   "source": [
    "accuracy = 1e-9\n",
    "\n",
    "roots = []\n",
    "for seg in loc_segments.copy():\n",
    "    while (seg[1] - seg[0]) > accuracy:\n",
    "        t = (seg[0] + seg[1]) / 2\n",
    "        if (np.polyval(a, t) >= 0) == (np.polyval(a, seg[0]) >= 0):\n",
    "            seg[0] = t\n",
    "        else:\n",
    "            seg[1] = t\n",
    "    roots.append(t)"
   ]
  },
  {
   "cell_type": "markdown",
   "metadata": {},
   "source": [
    "## Найдем $D_0$ и $D_3$"
   ]
  },
  {
   "cell_type": "markdown",
   "metadata": {},
   "source": [
    "Законы сохранения массы и импульса на разрыве:\n",
    "\n",
    "$$ \\rho_1 (U_1 - D_0) = \\rho_0 (U_0 - D_0)$$\n",
    "\n",
    "$$ P_1 + \\rho_1 (U_1 - D_0)^2 = P_0 + \\rho_0 (U_0 - D_0)^2 $$"
   ]
  },
  {
   "cell_type": "markdown",
   "metadata": {},
   "source": [
    "Выразим из первого уравнения $U_1 - D_0$:\n",
    "\n",
    "$$ U_1 - D_0 = \\frac{\\rho_0}{\\rho_1} (U_0 - D_0) $$"
   ]
  },
  {
   "cell_type": "markdown",
   "metadata": {},
   "source": [
    "Подставляем во второе:\n",
    "\n",
    "$$  P_1 + \\frac{\\rho_0^2}{\\rho_1} (U_0 - D_0)^2 = P_0 + \\rho_0 (U_0 - D_0)^2 $$"
   ]
  },
  {
   "cell_type": "markdown",
   "metadata": {},
   "source": [
    "Теперь выражаем $U_0 - D_0$:\n",
    "\n",
    "$$ (U_0 - D_0)^2 = \\dfrac{P_1 - P_0}{\\rho_0} \\cdot \\left[1 - \\dfrac{\\rho_0}{\\rho_1}\\right]^{-1} $$"
   ]
  },
  {
   "cell_type": "markdown",
   "metadata": {},
   "source": [
    "Теперь запишем это выражение используя найденный корень $y = \\frac{P_1}{P_0}$:\n",
    "\n",
    "$$ (U_0 - D_0)^2 = \\dfrac{P_0}{\\rho_0} \\cdot (y - 1) \\cdot \\dfrac{1}{1 - q} = d,$$\n",
    "\n",
    "здесь использовано обзначение $q$:\n",
    "$$ q = \\frac{\\rho_0}{\\rho_1} = \\dfrac{(\\gamma_0 + 1) + (\\gamma_0 - 1)y}{(\\gamma_0 - 1) + (\\gamma_0 + 1)y} $$"
   ]
  },
  {
   "cell_type": "markdown",
   "metadata": {},
   "source": [
    "Теперь можем найти $D_0$:\n",
    "\n",
    "$$ D_0 = U_0 \\mp \\sqrt{d} $$\n",
    "\n",
    "Знак выбирается исходя из того, какое давление больше, $P_1$ или $P_0$"
   ]
  },
  {
   "cell_type": "markdown",
   "metadata": {},
   "source": [
    "Аналогичным образом получается выражение для $D_3$"
   ]
  },
  {
   "cell_type": "code",
   "execution_count": 19,
   "metadata": {},
   "outputs": [],
   "source": [
    "def calc_d0(y):\n",
    "    q = ((gamma_0 + 1) + (gamma_0 - 1)*y) / ((gamma_0 - 1) + (gamma_0 + 1)*y)\n",
    "    d = P_0 / rho_0 * (y - 1) / (1 - q)\n",
    "    d0 = U_0 + d**0.5*np.sign(y - 1)\n",
    "    return d0\n",
    "\n",
    "def calc_d3(y):\n",
    "    P_2 = y * P_0\n",
    "    q = ((gamma_3 + 1)*P_3 + (gamma_3 - 1)*P_2) / ((gamma_3 - 1)*P_3 + (gamma_3 + 1)*P_2)\n",
    "    d = (P_2 - P_3) / (rho_3 * (1 - q))\n",
    "    d3 = U_3 - d**0.5*np.sign(y - 1)\n",
    "    return d3"
   ]
  },
  {
   "cell_type": "markdown",
   "metadata": {},
   "source": [
    "# Ответ"
   ]
  },
  {
   "cell_type": "code",
   "execution_count": 20,
   "metadata": {},
   "outputs": [
    {
     "name": "stdout",
     "output_type": "stream",
     "text": [
      "root = 0.1321172559642434 :\t D_0 = -251875.95805943938, \t D_3 = 17539.616734387662\n",
      "root = 0.13215649745679026 :\t D_0 = -251880.7422843586, \t D_3 = 17541.698905446145\n",
      "root = 2.6405578844612783 :\t D_0 = 97569.17875491877, \t D_3 = -70515.97149779115\n",
      "root = 6.4990853343483845 :\t D_0 = 232886.76187524368, \t D_3 = -110227.00614296627\n"
     ]
    }
   ],
   "source": [
    "for r in roots.copy():\n",
    "    print(f'root = {r} :\\t D_0 = {calc_d0(r)}, \\t D_3 = {calc_d3(r)}')"
   ]
  }
 ],
 "metadata": {
  "kernelspec": {
   "display_name": "Python 3 (ipykernel)",
   "language": "python",
   "name": "python3"
  },
  "language_info": {
   "codemirror_mode": {
    "name": "ipython",
    "version": 3
   },
   "file_extension": ".py",
   "mimetype": "text/x-python",
   "name": "python",
   "nbconvert_exporter": "python",
   "pygments_lexer": "ipython3",
   "version": "3.10.2"
  }
 },
 "nbformat": 4,
 "nbformat_minor": 4
}
