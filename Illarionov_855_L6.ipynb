{
 "cells": [
  {
   "cell_type": "code",
   "execution_count": 1,
   "metadata": {},
   "outputs": [],
   "source": [
    "import numpy as np\n",
    "import matplotlib.pyplot as plt\n",
    "import pandas as pd"
   ]
  },
  {
   "cell_type": "markdown",
   "metadata": {},
   "source": [
    "# Лабораторная работа №6\n",
    "\n",
    "## Вариант 1. Задание 1."
   ]
  },
  {
   "cell_type": "markdown",
   "metadata": {},
   "source": [
    "## Условие задачи"
   ]
  },
  {
   "cell_type": "markdown",
   "metadata": {},
   "source": [
    "Численно и аналитически решить одну из смешанных задач для квазилинейного уравнения теплопроводности с точностью $\\varepsilon = 10^{-4}$ и сравнить их значения в одиннадцати равноудаленных точках в момент времени $T = 1$\n",
    "\n",
    "$$\n",
    "\\begin{equation*}\n",
    "    \\begin{cases}\n",
    "        \\dfrac{\\partial U}{\\partial t} = \\dfrac{\\partial}{\\partial x} \\left( U \\dfrac{\\partial U}{\\partial x} \\right), \\hspace{0.5cm} 0 < t \\le 1 \\hspace{0.5cm} 0 < x < 1 \\\\\n",
    "        u(0, x) = \\dfrac{(1 + x)^2}{7}, \\hspace{1cm} 0 \\le x \\le 1 \\\\\n",
    "        u(t, 0) = \\dfrac{1}{7 - 6t} \\hspace{1cm} u(t, 1) = \\dfrac{4}{7 - 6t}, \\hspace{1cm} 0 < t \\le 1\n",
    "    \\end{cases}\n",
    "\\end{equation*}\n",
    "$$"
   ]
  },
  {
   "cell_type": "markdown",
   "metadata": {},
   "source": [
    "# Аналитическое решение"
   ]
  },
  {
   "cell_type": "markdown",
   "metadata": {},
   "source": [
    "Переменные разделяются, ищем решение в виде: $U = T(t)X(x)$\n",
    "\n",
    "$$T'X = T^2 \\frac{\\partial}{\\partial x} \\left(X \\frac{\\partial X}{\\partial x} \\right)$$\n",
    "\n",
    "Разделим на $T^2X$:\n",
    "\n",
    "$$ \\frac{T'}{T^2} = \\frac{\\frac{\\partial}{\\partial x} \\left(X \\frac{\\partial X}{\\partial x} \\right)}{X} = -k = const $$"
   ]
  },
  {
   "cell_type": "markdown",
   "metadata": {},
   "source": [
    "Рассмотрим первое уравнение:\n",
    "\n",
    "$$ T' + kT^2 = 0 \\hspace{0.5cm} \\Longrightarrow \\hspace{0.5cm} T = \\frac{1}{C_0 + kt}$$\n",
    "\n"
   ]
  },
  {
   "cell_type": "markdown",
   "metadata": {},
   "source": [
    "Второе уравнение можно преобразовать:\n",
    "\n",
    "$$X\\frac{dX}{dx} = \\frac{1}{2} \\frac{dX^2}{dx} \\longrightarrow \\frac{d^2 (X^2)}{dx^2} + 2kX = 0$$\n",
    "\n",
    "Будем искать частное решение в виде полинома степени не выше 2:\n",
    "\n",
    "$$ X_{частн} = a_0 + a_1 x + a_2 x^2$$\n",
    "\n",
    "Подставим и выпишем коэффициенты при степенях $x$:\n",
    "\n",
    "$$\n",
    "\\begin{align}\n",
    "    x^2 &: 4 a_2^2 + (2 a_2 + k) a_2 = 0    &\\longrightarrow& \\hspace{1cm} a_2 = -\\frac{k}{6}  \\\\\n",
    "    x   &: 4 a_1 a_2 + (2 a_2 + k) a_1 = 0  &\\longrightarrow& \\hspace{1cm} a_1 - любое \\\\\n",
    "    1   &: a_1^2 + (2 a_2 + k) a_0 = 0      &\\longrightarrow& \\hspace{1cm} a_0 = -\\frac{3 a_1^2}{2k}\n",
    "\\end{align}\n",
    "$$\n",
    "\n",
    "Пусть $a_2 = 1$, тогда $k = -6$, $a_0 = a_1^2 / 4$\n",
    "\n",
    "$$X_{частн} = a_1^2/4 + a_1 x + x^2 = (a_1 + x)^2 $$"
   ]
  },
  {
   "cell_type": "markdown",
   "metadata": {},
   "source": [
    "Получаем решение на $U$:\n",
    "\n",
    "$$ U = \\frac{(C_1 + x)^2}{C_0 - 6t} $$\n",
    "\n",
    "А с учетом граничных условий получаем следующее аналитическое решение:\n",
    "\n",
    "$$ U = \\frac{(1 + x)^2}{7 - 6t} $$"
   ]
  },
  {
   "cell_type": "code",
   "execution_count": 2,
   "metadata": {},
   "outputs": [],
   "source": [
    "def u_analytical(x, t):\n",
    "    return (1 + x)**2 / (7 - 6*t)"
   ]
  },
  {
   "cell_type": "markdown",
   "metadata": {},
   "source": [
    "# Численное решение"
   ]
  },
  {
   "cell_type": "markdown",
   "metadata": {},
   "source": [
    "Используется неявная разностная схема:\n",
    "\n",
    "$$\n",
    "\\frac{U_l^{k+1} - U_l^n}{\\tau}\n",
    "    = \\frac{(U_{l+1}^k + U_l^k)(U_{l+1}^{k+1} - U_l^{k+1})}{2 h^2}\n",
    "    - \\frac{(U_l^{k+1} + U_{l-1}^{k+1})(U_l^k - U_{l-1}^k)}{2 h^2},\n",
    "    \\hspace{1cm} l = \\overline{1, L-1}\n",
    "$$\n",
    "\n",
    "$$ U_0^n = \\frac{1}{7 - 6t^n}, \\hspace{1cm} U_L^n = \\frac{4}{7 - 6t^n}, \\hspace{1cm} U_l^0 = \\frac{(1 + x)^2}{7} $$"
   ]
  },
  {
   "cell_type": "markdown",
   "metadata": {},
   "source": [
    "Для решения этой системы из $L-1$ уравнений при переходе с $n$ временного слоя на $n+1$ будем использовать алгорит прогонки.\n",
    "\n",
    "Для начала нужно свести систему к трехдиагональной матрице. Представим систему в виде:\n",
    "\n",
    "$$ U_l^{k+1} - U_l^n = A_l(U_{l+1}^{k+1} - U_l^{k+1}) - B_l(U_l^{k+1} + U_{l-1}^{k+1}) $$\n",
    "\n",
    "$$\n",
    "\\begin{align}\n",
    "    A_l = \\frac{\\tau}{2h^2} (U_{l+1}^k + U_l^k) \\\\\n",
    "    B_l = \\frac{\\tau}{2h^2} (U_{l-1}^k + U_l^k) \\\\\n",
    "\\end{align}\n",
    "$$\n",
    "\n",
    "Снова переобозначая, получаем:\n",
    "\n",
    "$$ a_l U_{l+1}^{k+1} + b_l U_l^{k+1} + c_l U_{l-1}^{k+1} = d_l $$\n",
    "\n",
    "где:\n",
    "$$\n",
    "\\begin{cases}\n",
    "    a_l &= \\frac{\\tau}{2h^2} (U_{l+1}^k + U_l^k) \\\\\n",
    "    c_l &= \\frac{\\tau}{2h^2} (U_{l-1}^k + U_l^k) \\\\\n",
    "    b_l &= -(a_l + c_l + 1)                      \\\\\n",
    "    d_l &= -U_l^n\n",
    "\\end{cases}\n",
    "$$"
   ]
  },
  {
   "cell_type": "markdown",
   "metadata": {},
   "source": [
    "При прямом ходе прогонки сводим трехдиагональную матрицу к двухдиагональной. Прогоночное соотношение принимает следующий вид:\n",
    "\n",
    "$$ U_l = \\alpha_l U_{l+1} + \\beta_l \\hspace{1cm} l = \\overline{1, L-1}$$\n",
    "\n",
    "$$\n",
    "\\begin{cases}\n",
    "    \\alpha_1 &= -\\dfrac{a_1}{b_1}, \\hspace{1cm} &\\beta_1 = \\dfrac{d_1 - c_1 U_0}{b_1} \\\\\n",
    "    \\alpha_l &= -\\dfrac{a_l}{b_l + c_l \\alpha_{l-1}}, \\hspace{1cm} &\\beta_l = \\dfrac{d_l - c_l \\beta_{l-1}}{b_l + c_l \\alpha_{l-1}}\n",
    "\\end{cases}\n",
    "$$"
   ]
  },
  {
   "cell_type": "markdown",
   "metadata": {},
   "source": [
    "Значения $U_0^n, U_L^n$ известны из граничных условий, поэтому система легко решается.\n",
    "\n",
    "Нужно провести несколько этапов прогонки пока не достигентся нужная точность."
   ]
  },
  {
   "cell_type": "code",
   "execution_count": 3,
   "metadata": {},
   "outputs": [],
   "source": [
    "def sweep_method(u, dt, h, u_left, u_right, epsilon=1e-4):\n",
    "    L = u.size\n",
    "    C = dt / (2 * h**2)\n",
    "    d = -u[1:-1]\n",
    "    \n",
    "    u_k = u\n",
    "    max_diff = epsilon + 1\n",
    "    \n",
    "    while max_diff > epsilon:\n",
    "        u0 = u_k[:-2]\n",
    "        u1 = u_k[1:-1]\n",
    "        u2 = u_k[2:]\n",
    "\n",
    "        a = C * (u2 + u1)\n",
    "        c = C * (u1 + u0)\n",
    "        b = -(a + c + 1)\n",
    "    \n",
    "        # forward run\n",
    "        alpha = [-a[0] / b[0]]\n",
    "        beta = [(d[0] - c[0] * u_left) / b[0]]\n",
    "\n",
    "        for l in range(1, L - 2):\n",
    "            alpha.append(-a[l] / (b[l] + c[l]*alpha[l-1]))\n",
    "            beta.append((d[l] - c[l]*beta[l-1]) / (b[l] + c[l]*alpha[l-1]))\n",
    "\n",
    "        # reverse run\n",
    "        u_next = np.empty(L)\n",
    "        u_next[0] = u_left\n",
    "        u_next[-1] = u_right\n",
    "    \n",
    "        for l in range(L - 2, 0, -1):\n",
    "            u_next[l] = alpha[l - 1] * u_next[l + 1] + beta[l - 1]\n",
    "        \n",
    "        max_diff = np.max(np.abs((u_next - u_k)[1:-1] / u_next[1:-1]))\n",
    "        u_k = u_next\n",
    "\n",
    "    return u_k"
   ]
  },
  {
   "cell_type": "markdown",
   "metadata": {},
   "source": [
    "# Общий ответ"
   ]
  },
  {
   "cell_type": "code",
   "execution_count": 4,
   "metadata": {},
   "outputs": [],
   "source": [
    "def common_answer(L=11, N=11):\n",
    "    xs, h = np.linspace(0, 1, L, retstep=True)\n",
    "    ts, dt = np.linspace(0, 1, N, retstep=True)\n",
    "    \n",
    "    u_a = u_analytical(xs, np.ones(xs.size))\n",
    "\n",
    "    U = np.empty(shape=(N, L))\n",
    "    U[0] = (1 + xs)**2 / 7\n",
    "    U_0 = 1 / (7 - 6*ts)\n",
    "    U_L = 4 / (7 - 6*ts)\n",
    "\n",
    "    for n, t in enumerate(ts[1:], 1):\n",
    "        U[n] = sweep_method(U[n-1], dt, h, U_0[n], U_L[n])\n",
    "    u = U[-1]\n",
    "    \n",
    "    step_for_output = (L - 1) // 10\n",
    "\n",
    "    df = pd.DataFrame(\n",
    "        {\n",
    "            'Grid': xs[::step_for_output],\n",
    "            'Model analytical': u_a[::step_for_output],\n",
    "            'Model numerical': u[::step_for_output],\n",
    "        }\n",
    "    )\n",
    "    print('Значения в 11 равноудаленных точках:\\n')\n",
    "    print(df.to_string(index=False))\n",
    "\n",
    "    fig, ax = plt.subplots(figsize=(8, 6))\n",
    "    \n",
    "    ax.set_title(f'L={L}, N={N}')    \n",
    "    ax.plot(xs, u, '-r', label='numerical solution')\n",
    "    ax.plot(xs, u_a, '--k', label='analytical solution: $(1 + x)^2$')\n",
    "    ax.set_xlabel('$x$', fontsize=14)\n",
    "    ax.set_ylabel('$U(x, t=1)$', fontsize=14)\n",
    "    ax.legend()"
   ]
  },
  {
   "cell_type": "code",
   "execution_count": 5,
   "metadata": {},
   "outputs": [
    {
     "name": "stdout",
     "output_type": "stream",
     "text": [
      "Значения в 11 равноудаленных точках:\n",
      "\n",
      " Grid  Model analytical  Model numerical\n",
      "  0.0              1.00         1.000000\n",
      "  0.1              1.21         1.327595\n",
      "  0.2              1.44         1.621458\n",
      "  0.3              1.69         1.903759\n",
      "  0.4              1.96         2.184122\n",
      "  0.5              2.25         2.467545\n",
      "  0.6              2.56         2.756890\n",
      "  0.7              2.89         3.053892\n",
      "  0.8              3.24         3.359647\n",
      "  0.9              3.61         3.674862\n",
      "  1.0              4.00         4.000000\n"
     ]
    },
    {
     "data": {
      "image/png": "[encoded data removed]",
      "text/plain": [
       "<Figure size 576x432 with 1 Axes>"
      ]
     },
     "metadata": {
      "needs_background": "light"
     },
     "output_type": "display_data"
    }
   ],
   "source": [
    "common_answer()"
   ]
  },
  {
   "cell_type": "code",
   "execution_count": 6,
   "metadata": {},
   "outputs": [
    {
     "name": "stdout",
     "output_type": "stream",
     "text": [
      "Значения в 11 равноудаленных точках:\n",
      "\n",
      " Grid  Model analytical  Model numerical\n",
      "  0.0              1.00         1.000000\n",
      "  0.1              1.21         1.214569\n",
      "  0.2              1.44         1.447133\n",
      "  0.3              1.69         1.698461\n",
      "  0.4              1.96         1.968931\n",
      "  0.5              2.25         2.258737\n",
      "  0.6              2.56         2.567978\n",
      "  0.7              2.89         2.896706\n",
      "  0.8              3.24         3.244948\n",
      "  0.9              3.61         3.612711\n",
      "  1.0              4.00         4.000000\n"
     ]
    },
    {
     "data": {
      "image/png": "[encoded data removed]",
      "text/plain": [
       "<Figure size 576x432 with 1 Axes>"
      ]
     },
     "metadata": {
      "needs_background": "light"
     },
     "output_type": "display_data"
    }
   ],
   "source": [
    "common_answer(L=51, N=333)"
   ]
  }
 ],
 "metadata": {
  "kernelspec": {
   "display_name": "Python 3",
   "language": "python",
   "name": "python3"
  },
  "language_info": {
   "codemirror_mode": {
    "name": "ipython",
    "version": 3
   },
   "file_extension": ".py",
   "mimetype": "text/x-python",
   "name": "python",
   "nbconvert_exporter": "python",
   "pygments_lexer": "ipython3",
   "version": "3.9.1"
  }
 },
 "nbformat": 4,
 "nbformat_minor": 4
}
