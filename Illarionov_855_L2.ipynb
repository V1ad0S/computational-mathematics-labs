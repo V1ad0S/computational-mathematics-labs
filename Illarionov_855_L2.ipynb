{
 "cells": [
  {
   "cell_type": "code",
   "execution_count": 1,
   "metadata": {},
   "outputs": [],
   "source": [
    "import matplotlib.pyplot as plt\n",
    "import numpy as np\n",
    "import pandas as pd"
   ]
  },
  {
   "cell_type": "markdown",
   "metadata": {},
   "source": [
    "# Лабораторная работа №2. Вариант №1.\n",
    "## Илларионов Владислав 855"
   ]
  },
  {
   "cell_type": "code",
   "execution_count": 2,
   "metadata": {},
   "outputs": [],
   "source": [
    "x = [1.7453e-1, 5.2360e-1, 8.7267e-1, 1.22173, 1.5708, 1.91986, 2.26893]\n",
    "y = [1.6200e-3, 2.52e-3, 4.98e-3, 1.29e-2, 3.964e-2, 1.207e-1, 3.4097e-1]"
   ]
  },
  {
   "cell_type": "markdown",
   "metadata": {},
   "source": [
    "## Находим коэффициенты полинома Ньютона $b_i$"
   ]
  },
  {
   "cell_type": "code",
   "execution_count": 3,
   "metadata": {},
   "outputs": [],
   "source": [
    "n = len(y)\n",
    "B = [y]\n",
    "b = [y[0]]\n",
    "for i in range(1, n):\n",
    "    B.append([])\n",
    "    for j in range(n - i):\n",
    "        f_n = (B[i-1][j+1] - B[i-1][j])/(x[j+i] - x[j])\n",
    "        B[i].append(f_n)\n",
    "    b.append(B[i][0])"
   ]
  },
  {
   "cell_type": "markdown",
   "metadata": {},
   "source": [
    "## Приводим к алгебраическому степенному виду"
   ]
  },
  {
   "cell_type": "code",
   "execution_count": 4,
   "metadata": {},
   "outputs": [],
   "source": [
    "F = [[x[0], 1]]\n",
    "for i in range(1, n):\n",
    "    row = [F[i - 1][0] * x[i]]\n",
    "    for j in range(1, i + 1):\n",
    "        val = x[i] * F[i-1][j] + F[i-1][j-1]\n",
    "        row.append(val)\n",
    "    row.append(1)\n",
    "    F.append(row)"
   ]
  },
  {
   "cell_type": "code",
   "execution_count": 5,
   "metadata": {},
   "outputs": [],
   "source": [
    "M = [[b[0]]]\n",
    "for i in range(1, n):\n",
    "    row = []\n",
    "    for j in range(i):\n",
    "        val = M[i - 1][j] + (-1)**(i+j)*b[i]*F[i - 1][j]\n",
    "        row.append(val)\n",
    "    row.append(b[i])\n",
    "    M.append(row)\n",
    "\n",
    "p = np.array(M[-1][::-1])"
   ]
  },
  {
   "cell_type": "markdown",
   "metadata": {},
   "source": [
    "## График полинома"
   ]
  },
  {
   "cell_type": "code",
   "execution_count": 6,
   "metadata": {},
   "outputs": [
    {
     "data": {
      "image/png": "[encoded data removed]",
      "text/plain": [
       "<Figure size 864x576 with 1 Axes>"
      ]
     },
     "metadata": {
      "needs_background": "light"
     },
     "output_type": "display_data"
    }
   ],
   "source": [
    "x_s = np.linspace(x[0], x[-1], 500)\n",
    "\n",
    "plt.figure(figsize=(12, 8))\n",
    "plt.plot(x_s, np.polyval(p, x_s))\n",
    "plt.xlabel('$x$', fontsize=18)\n",
    "plt.ylabel(f'$P_{len(x) - 1}(x)$', fontsize=18)\n",
    "plt.grid()"
   ]
  },
  {
   "cell_type": "markdown",
   "metadata": {},
   "source": [
    "## Построение элементов сплайна"
   ]
  },
  {
   "cell_type": "code",
   "execution_count": 7,
   "metadata": {},
   "outputs": [],
   "source": [
    "def Si(i):\n",
    "    P_i = np.polyval(p, x[i])\n",
    "    P_i1 = np.polyval(p, x[i+1])\n",
    "    \n",
    "    p_d = np.polyder(p)\n",
    "    dP_i = np.polyval(p_d, x[i])\n",
    "    dP_i1 = np.polyval(p_d, x[i+1])\n",
    "    \n",
    "    a_3 = (dP_i1*(x[i+1] - x[i]) - 2*(y[i+1] - y[i]) + dP_i*(x[i+1] - x[i])) / (x[i+1] - x[i])**3\n",
    "    a_2 = (-dP_i1*(x[i+1] - x[i])*(x[i+1] + 2*x[i]) + 3*(y[i+1] - y[i])*(x[i+1] + x[i])\n",
    "           - dP_i*(x[i+1] - x[i])*(x[i] + 2*x[i+1])) / (x[i+1] - x[i])**3\n",
    "    a_1 = (dP_i1*x[i]*(2*x[i+1] + x[i])*(x[i+1] - x[i]) - 6*(y[i+1] - y[i])*x[i]*x[i+1]\n",
    "           + dP_i*x[i+1]*(x[i+1] + 2*x[i])*(x[i+1] - x[i])) / (x[i+1] - x[i])**3\n",
    "    a_0 = (-dP_i1*(x[i]**2)*x[i+1]*(x[i+1] - x[i]) + y[i+1]*(x[i]**2)*(3*x[i+1] - x[i])\n",
    "           + y[i]*(x[i+1]**2)*(x[i+1] - 3*x[i]) - dP_i*x[i]*(x[i+1]**2)*(x[i+1] - x[i])) / (x[i+1] - x[i])**3\n",
    "\n",
    "    return np.array([a_3, a_2, a_1, a_0])"
   ]
  },
  {
   "cell_type": "code",
   "execution_count": 8,
   "metadata": {},
   "outputs": [],
   "source": [
    "S = []\n",
    "for i in range(len(x) - 1):\n",
    "    S.append(Si(i))\n",
    "S = np.array(S)"
   ]
  },
  {
   "cell_type": "markdown",
   "metadata": {},
   "source": [
    "# Ответ"
   ]
  },
  {
   "cell_type": "markdown",
   "metadata": {},
   "source": [
    "## Коэффициенты полинома Ньютона в степенном виде"
   ]
  },
  {
   "cell_type": "code",
   "execution_count": 9,
   "metadata": {},
   "outputs": [
    {
     "name": "stdout",
     "output_type": "stream",
     "text": [
      "x^6 : 0.01117456557993848\n",
      "x^5 : -0.04981625782491904\n",
      "x^4 : 0.1094543433033508\n",
      "x^3 : -0.1227016196709355\n",
      "x^2 : 0.07479615193127234\n",
      "x^1 : -0.019391458207426944\n",
      "x^0 : 0.003284559824898437\n"
     ]
    }
   ],
   "source": [
    "for i, c in enumerate(p):\n",
    "    print(f'x^{len(p) - i - 1} : {c}')"
   ]
  },
  {
   "cell_type": "markdown",
   "metadata": {},
   "source": [
    "## Коэффициенты сплайнов"
   ]
  },
  {
   "cell_type": "code",
   "execution_count": 10,
   "metadata": {},
   "outputs": [
    {
     "data": {
      "text/html": [
       "<div>\n",
       "<style scoped>\n",
       "    .dataframe tbody tr th:only-of-type {\n",
       "        vertical-align: middle;\n",
       "    }\n",
       "\n",
       "    .dataframe tbody tr th {\n",
       "        vertical-align: top;\n",
       "    }\n",
       "\n",
       "    .dataframe thead th {\n",
       "        text-align: right;\n",
       "    }\n",
       "</style>\n",
       "<table border=\"1\" class=\"dataframe\">\n",
       "  <thead>\n",
       "    <tr style=\"text-align: right;\">\n",
       "      <th></th>\n",
       "      <th>$1$</th>\n",
       "      <th>$x$</th>\n",
       "      <th>$x^2$</th>\n",
       "      <th>$x^3$</th>\n",
       "    </tr>\n",
       "  </thead>\n",
       "  <tbody>\n",
       "    <tr>\n",
       "      <th>0</th>\n",
       "      <td>-0.022678</td>\n",
       "      <td>0.034019</td>\n",
       "      <td>-0.012191</td>\n",
       "      <td>0.002832</td>\n",
       "    </tr>\n",
       "    <tr>\n",
       "      <th>1</th>\n",
       "      <td>0.016016</td>\n",
       "      <td>-0.024260</td>\n",
       "      <td>0.017013</td>\n",
       "      <td>-0.002036</td>\n",
       "    </tr>\n",
       "    <tr>\n",
       "      <th>2</th>\n",
       "      <td>0.047379</td>\n",
       "      <td>-0.107846</td>\n",
       "      <td>0.091248</td>\n",
       "      <td>-0.024006</td>\n",
       "    </tr>\n",
       "    <tr>\n",
       "      <th>3</th>\n",
       "      <td>0.128445</td>\n",
       "      <td>-0.410429</td>\n",
       "      <td>0.467594</td>\n",
       "      <td>-0.179988</td>\n",
       "    </tr>\n",
       "    <tr>\n",
       "      <th>4</th>\n",
       "      <td>0.316247</td>\n",
       "      <td>-1.304870</td>\n",
       "      <td>1.887412</td>\n",
       "      <td>-0.931170</td>\n",
       "    </tr>\n",
       "    <tr>\n",
       "      <th>5</th>\n",
       "      <td>0.667820</td>\n",
       "      <td>-3.343208</td>\n",
       "      <td>5.826512</td>\n",
       "      <td>-3.468505</td>\n",
       "    </tr>\n",
       "  </tbody>\n",
       "</table>\n",
       "</div>"
      ],
      "text/plain": [
       "        $1$       $x$     $x^2$     $x^3$\n",
       "0 -0.022678  0.034019 -0.012191  0.002832\n",
       "1  0.016016 -0.024260  0.017013 -0.002036\n",
       "2  0.047379 -0.107846  0.091248 -0.024006\n",
       "3  0.128445 -0.410429  0.467594 -0.179988\n",
       "4  0.316247 -1.304870  1.887412 -0.931170\n",
       "5  0.667820 -3.343208  5.826512 -3.468505"
      ]
     },
     "execution_count": 10,
     "metadata": {},
     "output_type": "execute_result"
    }
   ],
   "source": [
    "df = pd.DataFrame(S, columns=['$1$', '$x$', '$x^2$', '$x^3$'])\n",
    "df"
   ]
  },
  {
   "cell_type": "markdown",
   "metadata": {},
   "source": [
    "## Тестовая задача"
   ]
  },
  {
   "cell_type": "code",
   "execution_count": 11,
   "metadata": {},
   "outputs": [
    {
     "name": "stdout",
     "output_type": "stream",
     "text": [
      "S_6(2) = 0.15424829604599877\n",
      "P(2) = 0.1543947333399162\n"
     ]
    }
   ],
   "source": [
    "t = 2\n",
    "for i, xi in enumerate(x):\n",
    "    if t <= xi:\n",
    "        break\n",
    "print(f'S_{i}({t}) = {np.polyval(S[i-1], t)}')\n",
    "print(f'P({t}) = {np.polyval(p, t)}')"
   ]
  },
  {
   "cell_type": "markdown",
   "metadata": {},
   "source": [
    "## Построим на одном графике полином Ньютона и получившийся сплайн"
   ]
  },
  {
   "cell_type": "code",
   "execution_count": 48,
   "metadata": {},
   "outputs": [
    {
     "data": {
      "text/plain": [
       "<matplotlib.legend.Legend at 0x7f331755bfa0>"
      ]
     },
     "execution_count": 48,
     "metadata": {},
     "output_type": "execute_result"
    },
    {
     "data": {
      "image/png": "[encoded data removed]",
      "text/plain": [
       "<Figure size 864x576 with 2 Axes>"
      ]
     },
     "metadata": {
      "needs_background": "light"
     },
     "output_type": "display_data"
    }
   ],
   "source": [
    "x_p = np.linspace(x[0], x[-1], 200)\n",
    "x_s = []\n",
    "for i in range(1, len(x)):\n",
    "    x_s.append(np.linspace(x[i-1], x[i], 50))\n",
    "\n",
    "fig, ax = plt.subplots(figsize=(12, 8))\n",
    "ax.plot(x_p, np.polyval(p, x_p), label='Полином Ньютона')\n",
    "for i in range(len(x)-1):\n",
    "    ax.plot(x_s[i], np.polyval(S[i], x_s[i]), label=f'$S_{i+1}(x)$')\n",
    "    \n",
    "ax.legend(fontsize=16)\n",
    "ax.grid()\n",
    "\n",
    "ax1 = plt.axes([0.2, 0.22, 0.3, 0.3])\n",
    "ax1.plot(x_s[0], np.polyval(p, x_s[0]), label='Полином Ньютона')\n",
    "ax1.plot(x_s[0], np.polyval(S[0], x_s[0]), label=f'$S_1(x)$')\n",
    "ax1.legend(fontsize=12)"
   ]
  }
 ],
 "metadata": {
  "kernelspec": {
   "display_name": "Python 3",
   "language": "python",
   "name": "python3"
  },
  "language_info": {
   "codemirror_mode": {
    "name": "ipython",
    "version": 3
   },
   "file_extension": ".py",
   "mimetype": "text/x-python",
   "name": "python",
   "nbconvert_exporter": "python",
   "pygments_lexer": "ipython3",
   "version": "3.8.2"
  }
 },
 "nbformat": 4,
 "nbformat_minor": 4
}
